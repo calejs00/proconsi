{
 "cells": [
  {
   "cell_type": "code",
   "execution_count": 9,
   "id": "0a8f6044",
   "metadata": {},
   "outputs": [],
   "source": [
    "import random\n",
    "import math\n",
    "\n",
    "COLORES = [\"rojo\", \"verde\", \"azul\", \"amarillo\", \"morado\", \"naranja\", \"rosa\"]\n",
    "\n",
    "class Figura:\n",
    "    def __init__(self):\n",
    "        self.color = random.choice(COLORES)\n",
    "        self.centro = (random.randint(0, 100), random.randint(0, 100))\n",
    "\n",
    "    def __str__(self):\n",
    "        cad=\" Color: \" + str(self.color)\n",
    "        cad+=\" Centro: \"+str(self.centro)\n",
    "        return cad\n",
    "\n",
    "class Circulo(Figura):\n",
    "    def __init__(self):\n",
    "        super().__init__()\n",
    "        self.radio = random.uniform(1.0, 10.0)\n",
    "\n",
    "    def area(self):\n",
    "        return math.pi * self.radio**2\n",
    "\n",
    "    def __str__(self):\n",
    "        cad=\" Círculo -> Radio: \" + str(self.radio)\n",
    "        cad+=\" Área: \"+str(self.area())\n",
    "        cad+= super().__str__()\n",
    "        return cad\n",
    "\n",
    "class Cuadrado(Figura):\n",
    "    def __init__(self):\n",
    "        super().__init__()\n",
    "        self.lado = random.uniform(1.0, 10.0)\n",
    "\n",
    "    def area(self):\n",
    "        return self.lado**2\n",
    "\n",
    "    def __str__(self):\n",
    "        cad=\" Cuadrado -> Lado:\" + str(self.lado)\n",
    "        cad+=\" Área: \"+str(self.area())\n",
    "        cad+= super().__str__()\n",
    "        return cad\n",
    "    \n",
    "class Triangulo(Figura):\n",
    "    def __init__(self):\n",
    "        super().__init__()\n",
    "        self.base = random.uniform(1.0, 10.0)\n",
    "        self.altura = random.uniform(1.0, 10.0)  \n",
    "        \n",
    "    def area(self):\n",
    "        return (self.base * self.altura) / 2\n",
    "\n",
    "    def __str__(self):\n",
    "        cad=\" Triángulo -> Base: \" + str(self.base)\n",
    "        cad+=\" Altura: \"+str(self.altura)\n",
    "        cad+=\" Área: \"+str(self.area())\n",
    "        cad+= super().__str__()\n",
    "        return cad"
   ]
  },
  {
   "cell_type": "code",
   "execution_count": null,
   "id": "9df10ac1",
   "metadata": {},
   "outputs": [
    {
     "name": "stdout",
     "output_type": "stream",
     "text": [
      "\n",
      "Todas las figuras (orden de creación):\n",
      " Círculo -> Radio: 7.605189685881152 Área: 181.70629524474504 Color: rojo Centro: (60, 41)\n",
      " Círculo -> Radio: 8.754453836961844 Área: 240.7731123350787 Color: azul Centro: (83, 66)\n",
      " Círculo -> Radio: 4.157520880988762 Área: 54.30236579544155 Color: amarillo Centro: (28, 28)\n",
      " Círculo -> Radio: 9.552208813350134 Área: 286.6536578796667 Color: rosa Centro: (91, 100)\n",
      " Cuadrado -> Lado:5.394619712665397 Área: 29.101921844278095 Color: rojo Centro: (56, 3)\n",
      " Triángulo -> Base: 3.148147087421612 Altura: 5.868674845498354 Área: 9.237725810940061 Color: rosa Centro: (52, 17)\n",
      " Triángulo -> Base: 1.7367232715136702 Altura: 5.275698198847055 Área: 4.581213917710217 Color: verde Centro: (71, 56)\n"
     ]
    }
   ],
   "source": [
    "def main():\n",
    "    nCir = int(input(\"Número de círculos: \"))\n",
    "    nTri = int(input(\"Número de triángulos: \"))\n",
    "    nCua = int(input(\"Número de cuadrados: \"))\n",
    "\n",
    "    figuras = []\n",
    "    for i in range(nCir):\n",
    "        figuras.append(Circulo())\n",
    "    for z in range(nCua):\n",
    "        figuras.append(Cuadrado())\n",
    "    for j in range(nTri):\n",
    "        figuras.append(Triangulo())\n",
    "\n",
    "    print(\"\\nTodas las figuras (orden de tipo):\")\n",
    "    for f in figuras:\n",
    "        print(f)\n",
    "\n",
    "if __name__ == \"__main__\":\n",
    "    main()"
   ]
  }
 ],
 "metadata": {
  "kernelspec": {
   "display_name": "Python 3",
   "language": "python",
   "name": "python3"
  },
  "language_info": {
   "codemirror_mode": {
    "name": "ipython",
    "version": 3
   },
   "file_extension": ".py",
   "mimetype": "text/x-python",
   "name": "python",
   "nbconvert_exporter": "python",
   "pygments_lexer": "ipython3",
   "version": "3.13.7"
  }
 },
 "nbformat": 4,
 "nbformat_minor": 5
}
