{
 "cells": [
  {
   "cell_type": "code",
   "execution_count": null,
   "id": "44960c93",
   "metadata": {},
   "outputs": [],
   "source": [
    "#Clase para filtrar la cadena\n",
    "class ItemSeparator:\n",
    "    #constructor con el que separo la cadena para poder obtener nombre, precio y cantidad\n",
    "    def __init__(self, rawInput = str):\n",
    "        input = rawInput.split(\"$$##\")\n",
    "        if len(input) != 3:\n",
    "            raise ValueError(\"El formato del input no es válido\")\n",
    "        self._name = input[0]\n",
    "        self._price = input[1]\n",
    "        self._quantity = input[2]\n",
    "\n",
    "    #getters\n",
    "    def get_name(self) -> str:\n",
    "        return self._name\n",
    "\n",
    "    def get_price(self) -> float:\n",
    "        return self._price\n",
    "\n",
    "    def get_quantity(self) -> int:\n",
    "        return self._quantity\n"
   ]
  },
  {
   "cell_type": "code",
   "execution_count": null,
   "id": "50463534",
   "metadata": {},
   "outputs": [],
   "source": [
    "#Clase main para realizar la prueba\n",
    "class Main:\n",
    "    def __init__(self):\n",
    "        stdIn = \"Bread$$##12.5$$##10\"\n",
    "        item = ItemSeparator(stdIn)\n",
    "        print(\"Item Name:\", item.get_name())\n",
    "        print(\"Item Price:\", item.get_price())\n",
    "        print(\"Quantity:\", item.get_quantity())\n"
   ]
  },
  {
   "cell_type": "code",
   "execution_count": 13,
   "id": "25474e54",
   "metadata": {},
   "outputs": [
    {
     "name": "stdout",
     "output_type": "stream",
     "text": [
      "Item Name: Bread\n",
      "Item Price: 12.5\n",
      "Quantity: 10\n"
     ]
    }
   ],
   "source": [
    "if __name__ == \"__main__\":\n",
    "    a = Main()"
   ]
  }
 ],
 "metadata": {
  "kernelspec": {
   "display_name": "Python 3",
   "language": "python",
   "name": "python3"
  },
  "language_info": {
   "codemirror_mode": {
    "name": "ipython",
    "version": 3
   },
   "file_extension": ".py",
   "mimetype": "text/x-python",
   "name": "python",
   "nbconvert_exporter": "python",
   "pygments_lexer": "ipython3",
   "version": "3.13.7"
  }
 },
 "nbformat": 4,
 "nbformat_minor": 5
}
