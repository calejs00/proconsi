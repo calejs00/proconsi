{
 "cells": [
  {
   "cell_type": "code",
   "execution_count": null,
   "id": "a65c2102",
   "metadata": {},
   "outputs": [],
   "source": [
    "# 45: 45² = 2025; 20 + 25 = 45.\n",
    "# 297: 297² = 88209; 88 + 209 = 297.\n",
    "# 703: 703² = 494209; 494 + 209 = 703"
   ]
  },
  {
   "cell_type": "code",
   "execution_count": null,
   "id": "15437b30",
   "metadata": {},
   "outputs": [],
   "source": [
    "num = int(input(\"Introduce un número para ver si es Kaprekar o no:\"))"
   ]
  },
  {
   "cell_type": "code",
   "execution_count": null,
   "id": "7e7cd37d",
   "metadata": {},
   "outputs": [],
   "source": [
    "def Kaprika(n):\n",
    "    n2=n**2\n",
    "    for i in str()"
   ]
  },
  {
   "cell_type": "code",
   "execution_count": null,
   "id": "19e3688c",
   "metadata": {},
   "outputs": [
    {
     "ename": "TypeError",
     "evalue": "cannot unpack non-iterable int object",
     "output_type": "error",
     "traceback": [
      "\u001b[31m---------------------------------------------------------------------------\u001b[39m",
      "\u001b[31mTypeError\u001b[39m                                 Traceback (most recent call last)",
      "\u001b[36mCell\u001b[39m\u001b[36m \u001b[39m\u001b[32mIn[65]\u001b[39m\u001b[32m, line 6\u001b[39m\n\u001b[32m      3\u001b[39m \u001b[38;5;28;01mfor\u001b[39;00m i \u001b[38;5;129;01min\u001b[39;00m \u001b[38;5;28mrange\u001b[39m(\u001b[38;5;28mlen\u001b[39m(a)):\n\u001b[32m      4\u001b[39m     lista.append((\u001b[38;5;28mint\u001b[39m(a[i])))\n\u001b[32m----> \u001b[39m\u001b[32m6\u001b[39m \u001b[38;5;28;01mfor\u001b[39;00m i,j \u001b[38;5;129;01min\u001b[39;00m \u001b[38;5;28mrange\u001b[39m(\u001b[32m0\u001b[39m, \u001b[38;5;28mlen\u001b[39m(lista)):\n\u001b[32m      7\u001b[39m     \u001b[38;5;28mprint\u001b[39m(lista[i:i+j])\n",
      "\u001b[31mTypeError\u001b[39m: cannot unpack non-iterable int object"
     ]
    }
   ],
   "source": [
    "a = \"2025\"\n",
    "lista = []\n",
    "for i in range(len(a)):\n",
    "    lista.append((int(a[i])))\n",
    "\n"
   ]
  },
  {
   "cell_type": "code",
   "execution_count": null,
   "id": "36a7934f",
   "metadata": {},
   "outputs": [],
   "source": []
  }
 ],
 "metadata": {
  "kernelspec": {
   "display_name": "Python 3",
   "language": "python",
   "name": "python3"
  },
  "language_info": {
   "codemirror_mode": {
    "name": "ipython",
    "version": 3
   },
   "file_extension": ".py",
   "mimetype": "text/x-python",
   "name": "python",
   "nbconvert_exporter": "python",
   "pygments_lexer": "ipython3",
   "version": "3.13.7"
  }
 },
 "nbformat": 4,
 "nbformat_minor": 5
}
