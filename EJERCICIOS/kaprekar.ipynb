{
 "cells": [
  {
   "cell_type": "code",
   "execution_count": null,
   "id": "a65c2102",
   "metadata": {},
   "outputs": [],
   "source": [
    "# 45: 45² = 2025; 20 + 25 = 45.\n",
    "# 297: 297² = 88209; 88 + 209 = 297.\n",
    "# 703: 703² = 494209; 494 + 209 = 703"
   ]
  },
  {
   "cell_type": "code",
   "execution_count": null,
   "id": "15437b30",
   "metadata": {},
   "outputs": [],
   "source": [
    "num = int(input(\"Introduce un número para ver si es Kaprekar o no:\"))"
   ]
  },
  {
   "cell_type": "code",
   "execution_count": null,
   "id": "7e7cd37d",
   "metadata": {},
   "outputs": [],
   "source": [
    "def Kaprika(n):\n",
    "    n2=n**2\n",
    "    for i in str()"
   ]
  },
  {
   "cell_type": "code",
   "execution_count": 41,
   "id": "19e3688c",
   "metadata": {},
   "outputs": [
    {
     "name": "stdout",
     "output_type": "stream",
     "text": [
      "2\n",
      "025\n",
      "20\n",
      "25\n",
      "20\n",
      "25\n",
      "202\n",
      "5\n",
      "202\n",
      "5\n",
      "2025\n",
      "\n"
     ]
    }
   ],
   "source": [
    "a = 2025\n",
    "for k in range(1, len(str(a))):\n",
    "    for i in range(0, len(str(a))-2):\n",
    "        print((str(a)[0:i+k]))\n",
    "        print((str(a)[i+k:]))\n",
    "\n"
   ]
  },
  {
   "cell_type": "code",
   "execution_count": 33,
   "id": "36a7934f",
   "metadata": {},
   "outputs": [
    {
     "data": {
      "text/plain": [
       "'34'"
      ]
     },
     "execution_count": 33,
     "metadata": {},
     "output_type": "execute_result"
    }
   ],
   "source": [
    "a = '1234'\n",
    "a[2:]"
   ]
  },
  {
   "cell_type": "code",
   "execution_count": null,
   "id": "09ca8d46",
   "metadata": {},
   "outputs": [],
   "source": []
  }
 ],
 "metadata": {
  "kernelspec": {
   "display_name": "Python 3",
   "language": "python",
   "name": "python3"
  },
  "language_info": {
   "codemirror_mode": {
    "name": "ipython",
    "version": 3
   },
   "file_extension": ".py",
   "mimetype": "text/x-python",
   "name": "python",
   "nbconvert_exporter": "python",
   "pygments_lexer": "ipython3",
   "version": "3.13.7"
  }
 },
 "nbformat": 4,
 "nbformat_minor": 5
}
