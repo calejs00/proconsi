{
 "cells": [
  {
   "cell_type": "code",
   "execution_count": null,
   "id": "a65c2102",
   "metadata": {},
   "outputs": [],
   "source": [
    "# 45: 45² = 2025; 20 + 25 = 45.\n",
    "# 297: 297² = 88209; 88 + 209 = 297.\n",
    "# 703: 703² = 494209; 494 + 209 = 703\n",
    "#Viene a ser un número que elevándolo al cuadrado, lo puedes separar en dos partes,\n",
    "#(siendo la segunda parte un número con los mismos digitos que el número original),\n",
    "#y la suma de esas dos partes sea igual al número original"
   ]
  },
  {
   "cell_type": "code",
   "execution_count": null,
   "id": "7e7cd37d",
   "metadata": {},
   "outputs": [],
   "source": [
    "def Kaprika(n):\n",
    "    n2=n**2 #calculo el cuadrado\n",
    "    k = 1\n",
    "    if n == 1:\n",
    "        return True #caso de n = 1\n",
    "    elif len(str(n2))==2: #caso para números menor que 10\n",
    "        if (int((str(n2)[0:1]))+int((str(n2)[1:]))) == n:\n",
    "            return True    \n",
    "    for i in range(0, len(str(n2))-2):#caso estándar\n",
    "        while k != len(str(n2)): \n",
    "            if (int((str(n2)[0:i+k]))+int((str(n2)[i+k:]))) == n:\n",
    "                if(len((str(n2)[i+k:])) == len(str(n))):\n",
    "                    return True\n",
    "            k+=1\n",
    "    return False"
   ]
  },
  {
   "cell_type": "code",
   "execution_count": 113,
   "id": "19e3688c",
   "metadata": {},
   "outputs": [
    {
     "data": {
      "text/plain": [
       "False"
      ]
     },
     "execution_count": 113,
     "metadata": {},
     "output_type": "execute_result"
    }
   ],
   "source": [
    "num = int(input(\"Introduce un número para ver si es Kaprekar o no:\"))\n",
    "Kaprika(num)\n"
   ]
  }
 ],
 "metadata": {
  "kernelspec": {
   "display_name": "Python 3",
   "language": "python",
   "name": "python3"
  },
  "language_info": {
   "codemirror_mode": {
    "name": "ipython",
    "version": 3
   },
   "file_extension": ".py",
   "mimetype": "text/x-python",
   "name": "python",
   "nbconvert_exporter": "python",
   "pygments_lexer": "ipython3",
   "version": "3.13.7"
  }
 },
 "nbformat": 4,
 "nbformat_minor": 5
}
