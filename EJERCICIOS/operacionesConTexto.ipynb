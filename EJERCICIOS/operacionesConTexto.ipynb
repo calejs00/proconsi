{
 "cells": [
  {
   "cell_type": "code",
   "execution_count": null,
   "id": "e188a848",
   "metadata": {},
   "outputs": [],
   "source": [
    "#string original\n",
    "text = 'Proconsi es una empresa de Tecnologías de la Información y la Comunicación especializada\\nen el desarrollo e integración de soluciones informáticas para todo tipo de empresas. Más de tres décadas\\nde experiencia avalan a una compañía tan flexible como responsable. Cuenta con un equipo multidisciplinar\\nde más de 120 profesionales cualificados, expertos y comprometidos con un único objetivo: hallar la\\nsolución tecnológica exacta para cada cliente. Proconsi es especialista en la creación y el desarrollo de\\nsoftware de gestión, consultoría tecnológica, dirección y gestión de proyectos I+D+i basados en TIC,\\nsoporte técnico, aplicaciones móviles y fomento de tendencias en nuevas tecnologías, como el cloud computing.\\n'"
   ]
  },
  {
   "cell_type": "code",
   "execution_count": null,
   "id": "4b16ae3c",
   "metadata": {},
   "outputs": [],
   "source": [
    "#función para contar palabras repetidas\n",
    "def repe(a):\n",
    "    palabras = text.split() #divido el texto en las distintas palabras (separadas por espacios en blanco)\n",
    "    contador = {} #creo un diccionario para almacenar cada palabra, y las veces que aparece\n",
    "    palabrasRepe = [] #lista donde añadiré las palabnras que aparecen más de una vez\n",
    "    for palabra in palabras:\n",
    "        if palabra in contador:\n",
    "            contador[palabra] += 1\n",
    "        else:\n",
    "            contador[palabra] = 1\n",
    "    for palabra in contador:\n",
    "        if contador[palabra] > 1:\n",
    "            palabrasRepe.append(palabra)\n",
    "    return palabrasRepe"
   ]
  },
  {
   "cell_type": "code",
   "execution_count": null,
   "id": "2bb34e47",
   "metadata": {},
   "outputs": [
    {
     "name": "stdout",
     "output_type": "stream",
     "text": [
      "El texto tiene 718 caracteres\n",
      "\n",
      "PROCONSI ES UNA EMPRESA DE TECNOLOGÍAS DE LA INFORMACIÓN Y LA COMUNICACIÓN ESPECIALIZADA\n",
      "EN EL DESARROLLO E INTEGRACIÓN DE SOLUCIONES INFORMÁTICAS PARA TODO TIPO DE EMPRESAS. MÁS DE TRES DÉCADAS\n",
      "DE EXPERIENCIA AVALAN A UNA COMPAÑÍA TAN FLEXIBLE COMO RESPONSABLE. CUENTA CON UN EQUIPO MULTIDISCIPLINAR\n",
      "DE MÁS DE 120 PROFESIONALES CUALIFICADOS, EXPERTOS Y COMPROMETIDOS CON UN ÚNICO OBJETIVO: HALLAR LA\n",
      "SOLUCIÓN TECNOLÓGICA EXACTA PARA CADA CLIENTE. PROCONSI ES ESPECIALISTA EN LA CREACIÓN Y EL DESARROLLO DE\n",
      "SOFTWARE DE GESTIÓN, CONSULTORÍA TECNOLÓGICA, DIRECCIÓN Y GESTIÓN DE PROYECTOS I+D+I BASADOS EN TIC,\n",
      "SOPORTE TÉCNICO, APLICACIONES MÓVILES Y FOMENTO DE TENDENCIAS EN NUEVAS TECNOLOGÍAS, COMO EL CLOUD COMPUTING.\n",
      "\n",
      "proconsi es una empresa de tecnologías de la información y la comunicación especializada\n",
      "en el desarrollo e integración de soluciones informáticas para todo tipo de empresas. más de tres décadas\n",
      "de experiencia avalan a una compañía tan flexible como responsable. cuenta con un equipo multidisciplinar\n",
      "de más de 120 profesionales cualificados, expertos y comprometidos con un único objetivo: hallar la\n",
      "solución tecnológica exacta para cada cliente. proconsi es especialista en la creación y el desarrollo de\n",
      "software de gestión, consultoría tecnológica, dirección y gestión de proyectos i+d+i basados en tic,\n",
      "soporte técnico, aplicaciones móviles y fomento de tendencias en nuevas tecnologías, como el cloud computing.\n",
      "\n"
     ]
    }
   ],
   "source": [
    "print(\"El texto tiene\",len(text),\"caracteres\\n\") #caracteres del texto entero\n",
    "print(text.upper()) #convertir en mayúsculas\n",
    "print(text.lower()) #convertir en minúsculas\n"
   ]
  },
  {
   "cell_type": "code",
   "execution_count": 94,
   "id": "8e94dbed",
   "metadata": {},
   "outputs": [
    {
     "name": "stdout",
     "output_type": "stream",
     "text": [
      "Hay 13 palabras que se repiten\n",
      "Se repiten:\n",
      "Proconsi\n",
      "es\n",
      "una\n",
      "de\n",
      "la\n",
      "y\n",
      "en\n",
      "el\n",
      "desarrollo\n",
      "para\n",
      "como\n",
      "con\n",
      "un\n"
     ]
    }
   ],
   "source": [
    "palabrasRepe = repe(text)\n",
    "print(\"Hay\", len(repe(text)), \"palabras que se repiten\")\n",
    "print(\"Se repiten:\")\n",
    "for i in palabrasRepe:\n",
    "    print(i)"
   ]
  },
  {
   "cell_type": "code",
   "execution_count": null,
   "id": "536a2073",
   "metadata": {},
   "outputs": [
    {
     "name": "stdout",
     "output_type": "stream",
     "text": [
      "Isnocorp es una empresa de Tecnologías de la Información y la Comunicación especializada\n",
      "en el desarrollo e integración de soluciones informáticas para todo tipo de empresas. Más de tres décadas\n",
      "de experiencia avalan a una compañía tan flexible como responsable. Cuenta con un equipo multidisciplinar\n",
      "de más de 120 profesionales cualificados, expertos y comprometidos con un único objetivo: hallar la\n",
      "solución tecnológica exacta para cada cliente. Isnocorp es especialista en la creación y el desarrollo de\n",
      "software de gestión, consultoría tecnológica, dirección y gestión de proyectos I+D+i basados en TIC,\n",
      "soporte técnico, aplicaciones móviles y fomento de tendencias en nuevas tecnologías, como el cloud computing.\n",
      "\n"
     ]
    }
   ],
   "source": [
    "text2 = text.replace(\"Proconsi\", \"Isnocorp\") #reemplazo una palabra por otra\n",
    "print(text2)"
   ]
  },
  {
   "cell_type": "code",
   "execution_count": null,
   "id": "75dc75e2",
   "metadata": {},
   "outputs": [
    {
     "name": "stdout",
     "output_type": "stream",
     "text": [
      "El texto ha tardado en concatenarse 0.000579833984375 segundos\n",
      "718000\n"
     ]
    }
   ],
   "source": [
    "import time\n",
    "\n",
    "start = time.time() #empiezo a cronometrar el tiempo\n",
    "text3 = text * 1000 #concateno 1000 veces\n",
    "end = time.time() #paro de cronometrar\n",
    "\n",
    "print(\"El texto ha tardado en concatenarse\", end -start, \"segundos\")\n"
   ]
  }
 ],
 "metadata": {
  "kernelspec": {
   "display_name": "Python 3",
   "language": "python",
   "name": "python3"
  },
  "language_info": {
   "codemirror_mode": {
    "name": "ipython",
    "version": 3
   },
   "file_extension": ".py",
   "mimetype": "text/x-python",
   "name": "python",
   "nbconvert_exporter": "python",
   "pygments_lexer": "ipython3",
   "version": "3.13.7"
  }
 },
 "nbformat": 4,
 "nbformat_minor": 5
}
