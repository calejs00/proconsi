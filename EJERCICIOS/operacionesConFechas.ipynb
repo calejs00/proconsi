{
 "cells": [
  {
   "cell_type": "code",
   "execution_count": 17,
   "id": "0e68fc47",
   "metadata": {},
   "outputs": [],
   "source": [
    "from datetime import date\n",
    "fecha1 = str(input(\"Dame una fecha:\"))\n",
    "fecha2 = str(input(\"Dame otra fecha:\"))"
   ]
  },
  {
   "cell_type": "code",
   "execution_count": 18,
   "id": "17d35732",
   "metadata": {},
   "outputs": [],
   "source": [
    "año, mes, dia = map(int, fecha1.split(\"/\"))\n",
    "fecha1 = date(año, mes, dia)\n",
    "año, mes, dia = map(int, fecha2.split(\"/\"))\n",
    "fecha2 = date(año, mes, dia)"
   ]
  },
  {
   "cell_type": "code",
   "execution_count": 19,
   "id": "e66aa21c",
   "metadata": {},
   "outputs": [],
   "source": [
    "def inicioYfin(fecha):\n",
    "    inicio = date(fecha.year,1,1)\n",
    "    fin = date(fecha.year,12,31)\n",
    "    return inicio, fin"
   ]
  },
  {
   "cell_type": "code",
   "execution_count": null,
   "id": "9fe6f7c4",
   "metadata": {},
   "outputs": [],
   "source": [
    "import calendar\n",
    "def numDias(año):\n",
    "    if calendar.isleap(año):\n",
    "        return 366\n",
    "    else:\n",
    "        return 365"
   ]
  },
  {
   "cell_type": "code",
   "execution_count": null,
   "id": "eaa63f70",
   "metadata": {},
   "outputs": [
    {
     "name": "stdout",
     "output_type": "stream",
     "text": [
      "La diferencia de días entre las dos fechas es 304\n",
      "EL inicio de año de la primera fecha es 2004-01-01 y el fin es 2004-12-31\n",
      "EL inicio de año de la primera fecha es 2003-01-01 y el fin es 2003-12-31\n"
     ]
    }
   ],
   "source": [
    "print(\"La diferencia de días entre las dos fechas es\", (fecha1-fecha2).days)\n",
    "inicio1, fin1 = inicioYfin(fecha1)\n",
    "inicio2, fin2 = inicioYfin(fecha2)\n",
    "print(\"EL inicio de año de la primera fecha es\",inicio1, \"y el fin es\", fin1)\n",
    "print(\"EL inicio de año de la primera fecha es\",inicio2, \"y el fin es\", fin2)"
   ]
  },
  {
   "cell_type": "code",
   "execution_count": null,
   "id": "ebdf6d04",
   "metadata": {},
   "outputs": [
    {
     "data": {
      "text/plain": [
       "True"
      ]
     },
     "execution_count": 21,
     "metadata": {},
     "output_type": "execute_result"
    }
   ],
   "source": [
    "import calendar\n"
   ]
  }
 ],
 "metadata": {
  "kernelspec": {
   "display_name": "Python 3",
   "language": "python",
   "name": "python3"
  },
  "language_info": {
   "codemirror_mode": {
    "name": "ipython",
    "version": 3
   },
   "file_extension": ".py",
   "mimetype": "text/x-python",
   "name": "python",
   "nbconvert_exporter": "python",
   "pygments_lexer": "ipython3",
   "version": "3.13.7"
  }
 },
 "nbformat": 4,
 "nbformat_minor": 5
}
