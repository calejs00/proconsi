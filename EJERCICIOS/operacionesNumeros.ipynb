{
 "cells": [
  {
   "cell_type": "code",
   "execution_count": 26,
   "id": "6ba878fb",
   "metadata": {},
   "outputs": [],
   "source": [
    "def sum(n1,n2, dec):\n",
    "    return round(n1+n2, dec)"
   ]
  },
  {
   "cell_type": "code",
   "execution_count": 27,
   "id": "8ad04af0",
   "metadata": {},
   "outputs": [],
   "source": [
    "def rest(n1,n2, dec):\n",
    "    return round(n1-n2, dec)"
   ]
  },
  {
   "cell_type": "code",
   "execution_count": 28,
   "id": "96348830",
   "metadata": {},
   "outputs": [],
   "source": [
    "def div(n1,n2, dec):\n",
    "    return round(n1/n2, dec)"
   ]
  },
  {
   "cell_type": "code",
   "execution_count": 29,
   "id": "388e3e34",
   "metadata": {},
   "outputs": [],
   "source": [
    "def mult(n1,n2, dec):\n",
    "    return round(n1*n2, dec)"
   ]
  },
  {
   "cell_type": "code",
   "execution_count": 30,
   "id": "ea4466ee",
   "metadata": {},
   "outputs": [],
   "source": [
    "def mod(n1,n2, dec):\n",
    "    return round(n1%n2, dec)"
   ]
  },
  {
   "cell_type": "code",
   "execution_count": 31,
   "id": "97709e1c",
   "metadata": {},
   "outputs": [],
   "source": [
    "def mayor(n1,n2):\n",
    "    if n1==n2:\n",
    "        print(\"Los números son iguales\")\n",
    "    elif n1>n2:\n",
    "        print(\"El primer número es mayor al segundo\")\n",
    "    else:\n",
    "        print(\"El primer número es menor al segundo\")\n"
   ]
  },
  {
   "cell_type": "code",
   "execution_count": 32,
   "id": "b476a0ac",
   "metadata": {},
   "outputs": [],
   "source": [
    "num1 = float(input(\"Introduce la primera cantidad:\"))\n",
    "num2 = float(input(\"Introduce la segunda cantidad:\"))\n",
    "numDecimales = int(input(\"Di cuántos decimales quieres redondear:\"))"
   ]
  },
  {
   "cell_type": "code",
   "execution_count": 33,
   "id": "dd09943d",
   "metadata": {},
   "outputs": [
    {
     "name": "stdout",
     "output_type": "stream",
     "text": [
      "La suma de 10.2 y 3.4 es 13.6\n",
      "La resta de 10.2 y 3.4 es 6.8\n",
      "La división de 10.2 y 3.4 es 3.0\n",
      "La multiplicación de 10.2 y 3.4 es 34.68\n",
      "El módulo de 10.2 y 3.4 es 3.4\n",
      "El primer número es mayor al segundo\n"
     ]
    }
   ],
   "source": [
    "print(\"La suma de\",num1, \"y\", num2, \"es\", sum(num1, num2, numDecimales))\n",
    "print(\"La resta de\",num1, \"y\", num2, \"es\", rest(num1, num2, numDecimales))\n",
    "print(\"La división de\",num1, \"y\", num2, \"es\", div(num1, num2, numDecimales))\n",
    "print(\"La multiplicación de\",num1, \"y\", num2, \"es\", mult(num1, num2, numDecimales))\n",
    "print(\"El módulo de\",num1, \"y\", num2, \"es\", mod(num1, num2, numDecimales))\n",
    "mayor(num1, num2)"
   ]
  }
 ],
 "metadata": {
  "kernelspec": {
   "display_name": "Python 3",
   "language": "python",
   "name": "python3"
  },
  "language_info": {
   "codemirror_mode": {
    "name": "ipython",
    "version": 3
   },
   "file_extension": ".py",
   "mimetype": "text/x-python",
   "name": "python",
   "nbconvert_exporter": "python",
   "pygments_lexer": "ipython3",
   "version": "3.13.7"
  }
 },
 "nbformat": 4,
 "nbformat_minor": 5
}
